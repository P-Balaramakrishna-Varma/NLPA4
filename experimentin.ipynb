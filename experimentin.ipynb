{
 "cells": [
  {
   "cell_type": "code",
   "execution_count": 8,
   "metadata": {},
   "outputs": [
    {
     "name": "stderr",
     "output_type": "stream",
     "text": [
      "/home/balaramakrishna/anaconda3/envs/nlpa4/lib/python3.10/site-packages/tqdm/auto.py:21: TqdmWarning: IProgress not found. Please update jupyter and ipywidgets. See https://ipywidgets.readthedocs.io/en/stable/user_install.html\n",
      "  from .autonotebook import tqdm as notebook_tqdm\n"
     ]
    }
   ],
   "source": [
    "from nltk.stem import PorterStemmer\n",
    "from nltk.tokenize import word_tokenize\n",
    "import torch\n",
    "import datasets\n",
    "import torchtext"
   ]
  },
  {
   "cell_type": "code",
   "execution_count": 7,
   "metadata": {},
   "outputs": [
    {
     "name": "stdout",
     "output_type": "stream",
     "text": [
      "['hi', 'how', 'are', 'you', 'run', 'play']\n"
     ]
    }
   ],
   "source": [
    "import string\n",
    "ps = PorterStemmer()\n",
    "\n",
    "def preprocess_sentence(sentence, ps):\n",
    "    token_words = word_tokenize(sentence)\n",
    "    token_words_no_punc = [word for word in token_words if word not in set(string.punctuation)]\n",
    "    stem_words = [ps.stem(word) for word in token_words_no_punc]\n",
    "    return stem_words"
   ]
  },
  {
   "cell_type": "code",
   "execution_count": 27,
   "metadata": {},
   "outputs": [
    {
     "name": "stderr",
     "output_type": "stream",
     "text": [
      "No config specified, defaulting to: sst/default\n",
      "Found cached dataset sst (/home/balaramakrishna/.cache/huggingface/datasets/sst/default/1.0.0/b8a7889ef01c5d3ae8c379b84cc4080f8aad3ac2bc538701cbe0ac6416fb76ff)\n",
      "100%|██████████| 3/3 [00:00<00:00, 475.78it/s]\n"
     ]
    }
   ],
   "source": [
    "def create_vocab_stt(dataset):\n",
    "    ps = PorterStemmer()\n",
    "    stemed_words = []\n",
    "    for sample in dataset['train']:\n",
    "        stems = preprocess_sentence(sample['sentence'], ps)\n",
    "        stems = [[stem] for stem in stems]\n",
    "        stemed_words.extend(stems)\n",
    "    vocab = torchtext.vocab.build_vocab_from_iterator(stemed_words, specials=[\"<pad>\", \"<unk>\"], special_first=True)\n",
    "    vocab.set_default_index(vocab[\"<unk>\"])\n",
    "    return vocab\n",
    "\n",
    "dataset = datasets.load_dataset('sst')\n",
    "vocab = create_vocab_stt(dataset)"
   ]
  },
  {
   "cell_type": "code",
   "execution_count": 25,
   "metadata": {},
   "outputs": [
    {
     "name": "stdout",
     "output_type": "stream",
     "text": [
      "12149\n",
      "0\n",
      "1\n",
      "2\n"
     ]
    }
   ],
   "source": [
    "print(len(vocab))\n",
    "print(vocab[\"<pad>\"])\n",
    "print(vocab[\"<unk>\"])\n",
    "print(vocab[\"the\"])"
   ]
  }
 ],
 "metadata": {
  "kernelspec": {
   "display_name": "nlpa4",
   "language": "python",
   "name": "python3"
  },
  "language_info": {
   "codemirror_mode": {
    "name": "ipython",
    "version": 3
   },
   "file_extension": ".py",
   "mimetype": "text/x-python",
   "name": "python",
   "nbconvert_exporter": "python",
   "pygments_lexer": "ipython3",
   "version": "3.10.11"
  },
  "orig_nbformat": 4,
  "vscode": {
   "interpreter": {
    "hash": "24a86ede8e5274f8940268fca500564981aecf775b92a5a38a1043d31b3fd556"
   }
  }
 },
 "nbformat": 4,
 "nbformat_minor": 2
}
