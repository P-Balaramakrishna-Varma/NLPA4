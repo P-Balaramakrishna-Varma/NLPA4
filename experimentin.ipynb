{
 "cells": [
  {
   "cell_type": "code",
   "execution_count": 1,
   "metadata": {},
   "outputs": [],
   "source": [
    "from nltk.stem import PorterStemmer\n",
    "from nltk.tokenize import word_tokenize"
   ]
  },
  {
   "cell_type": "code",
   "execution_count": 7,
   "metadata": {},
   "outputs": [
    {
     "name": "stdout",
     "output_type": "stream",
     "text": [
      "['hi', 'how', 'are', 'you', 'run', 'play']\n"
     ]
    }
   ],
   "source": [
    "import string\n",
    "ps = PorterStemmer()\n",
    "\n",
    "def preprocess_sentence(sentence, ps):\n",
    "    token_words = word_tokenize(sentence)\n",
    "    token_words_no_punc = [word for word in token_words if word not in set(string.punctuation)]\n",
    "    stem_words = [ps.stem(word) for word in token_words_no_punc]\n",
    "    return stem_words"
   ]
  }
 ],
 "metadata": {
  "kernelspec": {
   "display_name": "nlpa4",
   "language": "python",
   "name": "python3"
  },
  "language_info": {
   "codemirror_mode": {
    "name": "ipython",
    "version": 3
   },
   "file_extension": ".py",
   "mimetype": "text/x-python",
   "name": "python",
   "nbconvert_exporter": "python",
   "pygments_lexer": "ipython3",
   "version": "3.10.11"
  },
  "orig_nbformat": 4,
  "vscode": {
   "interpreter": {
    "hash": "24a86ede8e5274f8940268fca500564981aecf775b92a5a38a1043d31b3fd556"
   }
  }
 },
 "nbformat": 4,
 "nbformat_minor": 2
}
